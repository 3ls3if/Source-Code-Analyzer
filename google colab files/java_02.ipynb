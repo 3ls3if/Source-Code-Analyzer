{
  "cells": [
    {
      "cell_type": "code",
      "execution_count": 9,
      "metadata": {
        "id": "eNJTz3VM4Zqb"
      },
      "outputs": [],
      "source": [
        "import re\n",
        "import json\n",
        "import numpy as np\n",
        "import torch\n",
        "from transformers import RobertaTokenizer, RobertaModel\n",
        "from sklearn.ensemble import RandomForestClassifier\n",
        "import pandas as pd\n",
        "\n",
        "# Function to clean code\n",
        "def clean_code(code):\n",
        "    code = re.sub(r'\\/\\*[\\s\\S]*?\\*\\/', '', code)  # Remove multiline comments\n",
        "    code = re.sub(r'\\/\\/.*', '', code)  # Remove single line comments\n",
        "    code = re.sub(r'\\s*\\n\\s*', '\\n', code)  # Remove extra whitespace around newlines\n",
        "    return code.strip()\n",
        "\n",
        "# Function to label code (0 for safe, 1 for unsafe)\n",
        "def label_code(snippet):\n",
        "    unsafe_patterns = {\n",
        "        'Runtime.getRuntime().exec': 'Command Execution',\n",
        "        'ProcessBuilder': 'Command Execution',\n",
        "        'FileOutputStream': 'File I/O',\n",
        "        'FileInputStream': 'File I/O',\n",
        "        'BufferedWriter': 'File I/O',\n",
        "        'BufferedReader': 'File I/O',\n",
        "        'ObjectInputStream': 'Deserialization',\n",
        "        'ObjectOutputStream': 'Serialization',\n",
        "        'setAccessible': 'Reflection',\n",
        "        'getDeclaredField': 'Reflection',\n",
        "        'getDeclaredMethod': 'Reflection',\n",
        "        'URLClassLoader': 'URL Class Loading',\n",
        "        'URLConnection': 'Network Communication',\n",
        "        'Socket': 'Network Communication',\n",
        "        'ServerSocket': 'Network Communication',\n",
        "        'printStackTrace': 'Information Disclosure',\n",
        "        'getSystemProperty': 'Information Disclosure',\n",
        "        'System.loadLibrary': 'Library Loading',\n",
        "        'Class.forName': 'Dynamic Class Loading',\n",
        "        'Method.invoke': 'Reflection',\n",
        "        'ObjectInputStream.readObject': 'Deserialization',\n",
        "        'DriverManager.getConnection': 'SQL Injection',\n",
        "        'Statement.execute': 'SQL Injection',\n",
        "        'ResultSet.getString': 'SQL Injection',\n",
        "        'MessageDigest.getInstance(\"MD5\")': 'Insecure Hashing',\n",
        "        'MessageDigest.getInstance(\"SHA1\")': 'Insecure Hashing',\n",
        "        'Random': 'Insecure Randomness',\n",
        "        'Math.random': 'Insecure Randomness',\n",
        "        'Cipher.getInstance(\"DES\")': 'Insecure Encryption',\n",
        "        'Cipher.getInstance(\"Blowfish\")': 'Insecure Encryption',\n",
        "        'SSLContext': 'SSL Context',\n",
        "        'TrustManager': 'SSL Trust Management',\n",
        "        'HostnameVerifier': 'SSL Hostname Verification',\n",
        "        'new File': 'File Creation',\n",
        "        'XStream': 'XML Serialization',\n",
        "        'JavaSerializer': 'Java Serialization',\n",
        "        'System.out.println': 'Information Disclosure',\n",
        "        'password': 'Sensitive Data Exposure',\n",
        "        'FileWriter': 'Sensitive Data Exposure',\n",
        "        'FileReader': 'Sensitive Data Exposure',\n",
        "        'BufferedReader': 'Sensitive Data Exposure',\n",
        "        'System.out.println': 'Information Disclosure',\n",
        "        'ObjectInputStream': 'Unsafe Deserialization',\n",
        "        'file.setReadable': 'Improper File Permissions'\n",
        "    }\n",
        "\n",
        "    unsafe_lines = []\n",
        "    for line in snippet.split('\\n'):\n",
        "        for pattern, vuln_type in unsafe_patterns.items():\n",
        "            if pattern in line:\n",
        "                unsafe_lines.append((line.strip(), vuln_type))\n",
        "    return unsafe_lines\n",
        "\n",
        "# Load pre-trained model and tokenizer\n",
        "tokenizer = RobertaTokenizer.from_pretrained('microsoft/codebert-base')\n",
        "model = RobertaModel.from_pretrained('microsoft/codebert-base')\n",
        "\n",
        "# Load existing preprocessed dataset\n",
        "with open('java.json', 'r') as f:\n",
        "    data = json.load(f)"
      ]
    },
    {
      "cell_type": "code",
      "source": [
        "from google.colab import drive\n",
        "drive.mount('/content/drive')"
      ],
      "metadata": {
        "colab": {
          "base_uri": "https://localhost:8080/"
        },
        "id": "80rR4BcHUlHs",
        "outputId": "03b8d3a0-b885-433c-83f7-7e07fbd2457b"
      },
      "execution_count": 10,
      "outputs": [
        {
          "output_type": "stream",
          "name": "stdout",
          "text": [
            "Drive already mounted at /content/drive; to attempt to forcibly remount, call drive.mount(\"/content/drive\", force_remount=True).\n"
          ]
        }
      ]
    },
    {
      "cell_type": "code",
      "execution_count": 11,
      "metadata": {
        "id": "xM9HPjml6Txl"
      },
      "outputs": [],
      "source": [
        "# Tokenize and get embeddings for the code snippets\n",
        "inputs = tokenizer([d['code'] for d in data], padding=True, truncation=True, return_tensors='pt')\n",
        "with torch.no_grad():\n",
        "    outputs = model(**inputs)\n",
        "embeddings = outputs.last_hidden_state.mean(dim=1).numpy()"
      ]
    },
    {
      "cell_type": "code",
      "execution_count": 12,
      "metadata": {
        "colab": {
          "base_uri": "https://localhost:8080/"
        },
        "id": "B3h9Ef9g6VAn",
        "outputId": "860736cd-a8be-4818-9db6-234d24f851fe"
      },
      "outputs": [
        {
          "output_type": "stream",
          "name": "stdout",
          "text": [
            "Unsafe Lines of Code with Vulnerability Types:\n",
            "\n",
            "import java.util.Random; - Insecure Randomness\n",
            "File file = new File(\"test.txt\"); - File Creation\n",
            "Connection conn = DriverManager.getConnection(\"jdbc:mysql: - SQL Injection\n",
            "Cipher cipher = Cipher.getInstance(\"DES\"); - Insecure Encryption\n",
            "Random rand = new Random(); - Insecure Randomness\n",
            "System.out.println(\"Hello World\"); - Information Disclosure\n"
          ]
        }
      ],
      "source": [
        "# Create labels\n",
        "labels = np.array([d['label'] for d in data])\n",
        "\n",
        "# Train a simple classifier\n",
        "clf = RandomForestClassifier()\n",
        "clf.fit(embeddings, labels)\n",
        "\n",
        "# Testing the classifier with a new Java code snippet\n",
        "test_code = \"\"\"\n",
        "    import java.sql.Connection;\n",
        "    import java.sql.DriverManager;\n",
        "    import java.io.File;\n",
        "    import javax.crypto.Cipher;\n",
        "    import java.util.Random;\n",
        "\n",
        "    public class Test {\n",
        "        public static void main(String[] args) {\n",
        "            // Unsafe code snippets\n",
        "            File file = new File(\"test.txt\");\n",
        "            Connection conn = DriverManager.getConnection(\"jdbc:mysql://localhost:3306/mydb\", \"user\", \"pass\");\n",
        "            Cipher cipher = Cipher.getInstance(\"DES\");\n",
        "            Random rand = new Random();\n",
        "            System.out.println(\"Hello World\");\n",
        "        }\n",
        "    }\n",
        "\"\"\"\n",
        "\n",
        "cleaned_test_code = clean_code(test_code)\n",
        "unsafe_lines = label_code(cleaned_test_code)\n",
        "\n",
        "print(\"Unsafe Lines of Code with Vulnerability Types:\\n\")\n",
        "for line, vuln_type in unsafe_lines:\n",
        "    print(f\"{line} - {vuln_type}\")\n",
        "\n",
        "test_inputs = tokenizer([cleaned_test_code], padding=True, truncation=True, return_tensors='pt')\n",
        "with torch.no_grad():\n",
        "    test_outputs = model(**test_inputs)\n",
        "test_embeddings = test_outputs.last_hidden_state.mean(dim=1).numpy()\n",
        "prediction = clf.predict(test_embeddings)\n",
        "# print(\"\\nPrediction:\", prediction)  # Should output 1 for unsafe"
      ]
    },
    {
      "cell_type": "code",
      "source": [
        "!pip install gradio\n"
      ],
      "metadata": {
        "colab": {
          "base_uri": "https://localhost:8080/"
        },
        "id": "xNpL8fF_UYtx",
        "outputId": "024a7b92-00a4-4c39-de9a-6a10f03cf2d6"
      },
      "execution_count": null,
      "outputs": [
        {
          "output_type": "stream",
          "name": "stdout",
          "text": [
            "Requirement already satisfied: gradio in /usr/local/lib/python3.10/dist-packages (4.38.1)\n",
            "Requirement already satisfied: aiofiles<24.0,>=22.0 in /usr/local/lib/python3.10/dist-packages (from gradio) (23.2.1)\n",
            "Requirement already satisfied: altair<6.0,>=5.0 in /usr/local/lib/python3.10/dist-packages (from gradio) (5.3.0)\n",
            "Requirement already satisfied: fastapi in /usr/local/lib/python3.10/dist-packages (from gradio) (0.111.1)\n",
            "Requirement already satisfied: ffmpy in /usr/local/lib/python3.10/dist-packages (from gradio) (0.3.2)\n",
            "Requirement already satisfied: gradio-client==1.1.0 in /usr/local/lib/python3.10/dist-packages (from gradio) (1.1.0)\n",
            "Requirement already satisfied: httpx>=0.24.1 in /usr/local/lib/python3.10/dist-packages (from gradio) (0.27.0)\n",
            "Requirement already satisfied: huggingface-hub>=0.19.3 in /usr/local/lib/python3.10/dist-packages (from gradio) (0.23.5)\n",
            "Requirement already satisfied: importlib-resources<7.0,>=1.3 in /usr/local/lib/python3.10/dist-packages (from gradio) (6.4.0)\n",
            "Requirement already satisfied: jinja2<4.0 in /usr/local/lib/python3.10/dist-packages (from gradio) (3.1.4)\n",
            "Requirement already satisfied: markupsafe~=2.0 in /usr/local/lib/python3.10/dist-packages (from gradio) (2.1.5)\n",
            "Requirement already satisfied: matplotlib~=3.0 in /usr/local/lib/python3.10/dist-packages (from gradio) (3.7.1)\n",
            "Requirement already satisfied: numpy<3.0,>=1.0 in /usr/local/lib/python3.10/dist-packages (from gradio) (1.25.2)\n",
            "Requirement already satisfied: orjson~=3.0 in /usr/local/lib/python3.10/dist-packages (from gradio) (3.10.6)\n",
            "Requirement already satisfied: packaging in /usr/local/lib/python3.10/dist-packages (from gradio) (24.1)\n",
            "Requirement already satisfied: pandas<3.0,>=1.0 in /usr/local/lib/python3.10/dist-packages (from gradio) (2.0.3)\n",
            "Requirement already satisfied: pillow<11.0,>=8.0 in /usr/local/lib/python3.10/dist-packages (from gradio) (9.4.0)\n",
            "Requirement already satisfied: pydantic>=2.0 in /usr/local/lib/python3.10/dist-packages (from gradio) (2.8.2)\n",
            "Requirement already satisfied: pydub in /usr/local/lib/python3.10/dist-packages (from gradio) (0.25.1)\n",
            "Requirement already satisfied: python-multipart>=0.0.9 in /usr/local/lib/python3.10/dist-packages (from gradio) (0.0.9)\n",
            "Requirement already satisfied: pyyaml<7.0,>=5.0 in /usr/local/lib/python3.10/dist-packages (from gradio) (6.0.1)\n",
            "Requirement already satisfied: ruff>=0.2.2 in /usr/local/lib/python3.10/dist-packages (from gradio) (0.5.4)\n",
            "Requirement already satisfied: semantic-version~=2.0 in /usr/local/lib/python3.10/dist-packages (from gradio) (2.10.0)\n",
            "Requirement already satisfied: tomlkit==0.12.0 in /usr/local/lib/python3.10/dist-packages (from gradio) (0.12.0)\n",
            "Requirement already satisfied: typer<1.0,>=0.12 in /usr/local/lib/python3.10/dist-packages (from gradio) (0.12.3)\n",
            "Requirement already satisfied: typing-extensions~=4.0 in /usr/local/lib/python3.10/dist-packages (from gradio) (4.12.2)\n",
            "Requirement already satisfied: urllib3~=2.0 in /usr/local/lib/python3.10/dist-packages (from gradio) (2.0.7)\n",
            "Requirement already satisfied: uvicorn>=0.14.0 in /usr/local/lib/python3.10/dist-packages (from gradio) (0.30.3)\n",
            "Requirement already satisfied: fsspec in /usr/local/lib/python3.10/dist-packages (from gradio-client==1.1.0->gradio) (2023.6.0)\n",
            "Requirement already satisfied: websockets<12.0,>=10.0 in /usr/local/lib/python3.10/dist-packages (from gradio-client==1.1.0->gradio) (11.0.3)\n",
            "Requirement already satisfied: jsonschema>=3.0 in /usr/local/lib/python3.10/dist-packages (from altair<6.0,>=5.0->gradio) (4.19.2)\n",
            "Requirement already satisfied: toolz in /usr/local/lib/python3.10/dist-packages (from altair<6.0,>=5.0->gradio) (0.12.1)\n",
            "Requirement already satisfied: anyio in /usr/local/lib/python3.10/dist-packages (from httpx>=0.24.1->gradio) (3.7.1)\n",
            "Requirement already satisfied: certifi in /usr/local/lib/python3.10/dist-packages (from httpx>=0.24.1->gradio) (2024.7.4)\n",
            "Requirement already satisfied: httpcore==1.* in /usr/local/lib/python3.10/dist-packages (from httpx>=0.24.1->gradio) (1.0.5)\n",
            "Requirement already satisfied: idna in /usr/local/lib/python3.10/dist-packages (from httpx>=0.24.1->gradio) (3.7)\n",
            "Requirement already satisfied: sniffio in /usr/local/lib/python3.10/dist-packages (from httpx>=0.24.1->gradio) (1.3.1)\n",
            "Requirement already satisfied: h11<0.15,>=0.13 in /usr/local/lib/python3.10/dist-packages (from httpcore==1.*->httpx>=0.24.1->gradio) (0.14.0)\n",
            "Requirement already satisfied: filelock in /usr/local/lib/python3.10/dist-packages (from huggingface-hub>=0.19.3->gradio) (3.15.4)\n",
            "Requirement already satisfied: requests in /usr/local/lib/python3.10/dist-packages (from huggingface-hub>=0.19.3->gradio) (2.31.0)\n",
            "Requirement already satisfied: tqdm>=4.42.1 in /usr/local/lib/python3.10/dist-packages (from huggingface-hub>=0.19.3->gradio) (4.66.4)\n",
            "Requirement already satisfied: contourpy>=1.0.1 in /usr/local/lib/python3.10/dist-packages (from matplotlib~=3.0->gradio) (1.2.1)\n",
            "Requirement already satisfied: cycler>=0.10 in /usr/local/lib/python3.10/dist-packages (from matplotlib~=3.0->gradio) (0.12.1)\n",
            "Requirement already satisfied: fonttools>=4.22.0 in /usr/local/lib/python3.10/dist-packages (from matplotlib~=3.0->gradio) (4.53.1)\n",
            "Requirement already satisfied: kiwisolver>=1.0.1 in /usr/local/lib/python3.10/dist-packages (from matplotlib~=3.0->gradio) (1.4.5)\n",
            "Requirement already satisfied: pyparsing>=2.3.1 in /usr/local/lib/python3.10/dist-packages (from matplotlib~=3.0->gradio) (3.1.2)\n",
            "Requirement already satisfied: python-dateutil>=2.7 in /usr/local/lib/python3.10/dist-packages (from matplotlib~=3.0->gradio) (2.8.2)\n",
            "Requirement already satisfied: pytz>=2020.1 in /usr/local/lib/python3.10/dist-packages (from pandas<3.0,>=1.0->gradio) (2023.4)\n",
            "Requirement already satisfied: tzdata>=2022.1 in /usr/local/lib/python3.10/dist-packages (from pandas<3.0,>=1.0->gradio) (2024.1)\n",
            "Requirement already satisfied: annotated-types>=0.4.0 in /usr/local/lib/python3.10/dist-packages (from pydantic>=2.0->gradio) (0.7.0)\n",
            "Requirement already satisfied: pydantic-core==2.20.1 in /usr/local/lib/python3.10/dist-packages (from pydantic>=2.0->gradio) (2.20.1)\n",
            "Requirement already satisfied: click>=8.0.0 in /usr/local/lib/python3.10/dist-packages (from typer<1.0,>=0.12->gradio) (8.1.7)\n",
            "Requirement already satisfied: shellingham>=1.3.0 in /usr/local/lib/python3.10/dist-packages (from typer<1.0,>=0.12->gradio) (1.5.4)\n",
            "Requirement already satisfied: rich>=10.11.0 in /usr/local/lib/python3.10/dist-packages (from typer<1.0,>=0.12->gradio) (13.7.1)\n",
            "Requirement already satisfied: starlette<0.38.0,>=0.37.2 in /usr/local/lib/python3.10/dist-packages (from fastapi->gradio) (0.37.2)\n",
            "Requirement already satisfied: fastapi-cli>=0.0.2 in /usr/local/lib/python3.10/dist-packages (from fastapi->gradio) (0.0.4)\n",
            "Requirement already satisfied: email_validator>=2.0.0 in /usr/local/lib/python3.10/dist-packages (from fastapi->gradio) (2.2.0)\n",
            "Requirement already satisfied: dnspython>=2.0.0 in /usr/local/lib/python3.10/dist-packages (from email_validator>=2.0.0->fastapi->gradio) (2.6.1)\n",
            "Requirement already satisfied: attrs>=22.2.0 in /usr/local/lib/python3.10/dist-packages (from jsonschema>=3.0->altair<6.0,>=5.0->gradio) (23.2.0)\n",
            "Requirement already satisfied: jsonschema-specifications>=2023.03.6 in /usr/local/lib/python3.10/dist-packages (from jsonschema>=3.0->altair<6.0,>=5.0->gradio) (2023.12.1)\n",
            "Requirement already satisfied: referencing>=0.28.4 in /usr/local/lib/python3.10/dist-packages (from jsonschema>=3.0->altair<6.0,>=5.0->gradio) (0.35.1)\n",
            "Requirement already satisfied: rpds-py>=0.7.1 in /usr/local/lib/python3.10/dist-packages (from jsonschema>=3.0->altair<6.0,>=5.0->gradio) (0.19.0)\n",
            "Requirement already satisfied: six>=1.5 in /usr/local/lib/python3.10/dist-packages (from python-dateutil>=2.7->matplotlib~=3.0->gradio) (1.16.0)\n",
            "Requirement already satisfied: markdown-it-py>=2.2.0 in /usr/local/lib/python3.10/dist-packages (from rich>=10.11.0->typer<1.0,>=0.12->gradio) (3.0.0)\n",
            "Requirement already satisfied: pygments<3.0.0,>=2.13.0 in /usr/local/lib/python3.10/dist-packages (from rich>=10.11.0->typer<1.0,>=0.12->gradio) (2.16.1)\n",
            "Requirement already satisfied: exceptiongroup in /usr/local/lib/python3.10/dist-packages (from anyio->httpx>=0.24.1->gradio) (1.2.2)\n",
            "Requirement already satisfied: httptools>=0.5.0 in /usr/local/lib/python3.10/dist-packages (from uvicorn>=0.14.0->gradio) (0.6.1)\n",
            "Requirement already satisfied: python-dotenv>=0.13 in /usr/local/lib/python3.10/dist-packages (from uvicorn>=0.14.0->gradio) (1.0.1)\n",
            "Requirement already satisfied: uvloop!=0.15.0,!=0.15.1,>=0.14.0 in /usr/local/lib/python3.10/dist-packages (from uvicorn>=0.14.0->gradio) (0.19.0)\n",
            "Requirement already satisfied: watchfiles>=0.13 in /usr/local/lib/python3.10/dist-packages (from uvicorn>=0.14.0->gradio) (0.22.0)\n",
            "Requirement already satisfied: charset-normalizer<4,>=2 in /usr/local/lib/python3.10/dist-packages (from requests->huggingface-hub>=0.19.3->gradio) (3.3.2)\n",
            "Requirement already satisfied: mdurl~=0.1 in /usr/local/lib/python3.10/dist-packages (from markdown-it-py>=2.2.0->rich>=10.11.0->typer<1.0,>=0.12->gradio) (0.1.2)\n"
          ]
        }
      ]
    },
    {
      "cell_type": "code",
      "source": [
        "import gradio as gr\n",
        "\n",
        "def detect_unsafe_code(code):\n",
        "    cleaned_code = clean_code(code)\n",
        "    unsafe_lines = label_code(cleaned_code)\n",
        "\n",
        "    # Format the output\n",
        "    formatted_output = \"\\n\".join([f\"{line[0]} - {line[1]}\" for line in unsafe_lines])\n",
        "    return formatted_output\n",
        "\n",
        "iface = gr.Interface(\n",
        "    fn=detect_unsafe_code,\n",
        "    inputs=\"text\",\n",
        "    outputs=\"text\",\n",
        "    title=\"Java Code Safety Analyzer\",\n",
        "    description=\"Enter your Java code to detect unsafe lines.\"\n",
        ")\n",
        "\n",
        "iface.launch()\n"
      ],
      "metadata": {
        "colab": {
          "base_uri": "https://localhost:8080/",
          "height": 630
        },
        "id": "0hla6yGaUg-q",
        "outputId": "7bcc0b0f-1167-4cb6-9c18-2d2d731a9ebd"
      },
      "execution_count": 15,
      "outputs": [
        {
          "output_type": "stream",
          "name": "stdout",
          "text": [
            "Setting queue=True in a Colab notebook requires sharing enabled. Setting `share=True` (you can turn this off by setting `share=False` in `launch()` explicitly).\n",
            "\n",
            "Colab notebook detected. To show errors in colab notebook, set debug=True in launch()\n",
            "Running on public URL: https://d5eb353a85d6cc1a54.gradio.live\n",
            "\n",
            "This share link expires in 72 hours. For free permanent hosting and GPU upgrades, run `gradio deploy` from Terminal to deploy to Spaces (https://huggingface.co/spaces)\n"
          ]
        },
        {
          "output_type": "display_data",
          "data": {
            "text/plain": [
              "<IPython.core.display.HTML object>"
            ],
            "text/html": [
              "<div><iframe src=\"https://d5eb353a85d6cc1a54.gradio.live\" width=\"100%\" height=\"500\" allow=\"autoplay; camera; microphone; clipboard-read; clipboard-write;\" frameborder=\"0\" allowfullscreen></iframe></div>"
            ]
          },
          "metadata": {}
        },
        {
          "output_type": "execute_result",
          "data": {
            "text/plain": []
          },
          "metadata": {},
          "execution_count": 15
        }
      ]
    }
  ],
  "metadata": {
    "colab": {
      "provenance": []
    },
    "kernelspec": {
      "display_name": "Python 3 (ipykernel)",
      "language": "python",
      "name": "python3"
    },
    "language_info": {
      "codemirror_mode": {
        "name": "ipython",
        "version": 3
      },
      "file_extension": ".py",
      "mimetype": "text/x-python",
      "name": "python",
      "nbconvert_exporter": "python",
      "pygments_lexer": "ipython3",
      "version": "3.10.12"
    }
  },
  "nbformat": 4,
  "nbformat_minor": 0
}