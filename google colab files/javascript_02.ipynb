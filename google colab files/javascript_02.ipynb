{
 "cells": [
  {
   "cell_type": "code",
   "execution_count": 12,
   "metadata": {
    "id": "Wfq93oiVbgPr"
   },
   "outputs": [],
   "source": [
    "import re\n",
    "import json\n",
    "import numpy as np\n",
    "import torch\n",
    "from transformers import RobertaTokenizer, RobertaModel\n",
    "from sklearn.ensemble import RandomForestClassifier\n",
    "import pandas as pd\n",
    "\n",
    "# Function to clean code\n",
    "def clean_code(code):\n",
    "    code = re.sub(r'\\/\\*[\\s\\S]*?\\*\\/', '', code)  # Remove multiline comments\n",
    "    code = re.sub(r'\\/\\/.*', '', code)  # Remove single line comments\n",
    "    code = re.sub(r'#.*', '', code)  # Remove python comments\n",
    "    code = re.sub(r'\\s*\\n\\s*', '\\n', code)  # Remove extra whitespace around newlines\n",
    "    return code.strip()\n",
    "\n",
    "# Function to label code (0 for safe, 1 for unsafe)\n",
    "def label_code(snippet):\n",
    "    unsafe_patterns = {\n",
    "        'eval': 'Code Injection',                        # Executes code from a string\n",
    "        'innerHTML': 'Cross-Site Scripting (XSS)',       # Inserts HTML content into an element\n",
    "        'outerHTML': 'Cross-Site Scripting (XSS)',       # Similar to innerHTML but for the element itself\n",
    "        'document.write': 'Cross-Site Scripting (XSS)',  # Writes directly to the HTML document\n",
    "        'setTimeout': 'Potential Code Injection',        # Executes code after a delay\n",
    "        'setInterval': 'Potential Code Injection',       # Repeatedly executes code at intervals\n",
    "        'Function': 'Code Injection',                    # Creates new functions from strings\n",
    "        'location.href': 'Open Redirect',                # Changes the URL of the current page\n",
    "        'document.location': 'Open Redirect',            # Similar to location.href\n",
    "        'XMLHttpRequest': 'Sensitive Data Exposure',     # Handles HTTP requests, can be misused\n",
    "        '<script>': 'Cross-Site Scripting (XSS)',        # Directly injects JavaScript code\n",
    "        'document.body.innerHTML': 'Cross-Site Scripting (XSS)'  # Sets the HTML content of the body element\n",
    "    }\n",
    "\n",
    "    unsafe_lines = []\n",
    "    for line in snippet.split('\\n'):\n",
    "        for pattern, vuln_type in unsafe_patterns.items():\n",
    "            if pattern in line:\n",
    "                unsafe_lines.append((line.strip(), vuln_type))\n",
    "    return unsafe_lines\n",
    "\n",
    "# Load pre-trained model and tokenizer\n",
    "tokenizer = RobertaTokenizer.from_pretrained('microsoft/codebert-base')\n",
    "model = RobertaModel.from_pretrained('microsoft/codebert-base')\n",
    "\n",
    "# Load existing preprocessed dataset\n",
    "with open('javascript.json', 'r') as f:\n",
    "    data = json.load(f)\n"
   ]
  },
  {
   "cell_type": "code",
   "execution_count": 8,
   "metadata": {
    "id": "VWMdTC9Rb5X1"
   },
   "outputs": [],
   "source": [
    "# Tokenize and get embeddings for the code snippets\n",
    "inputs = tokenizer([d['code'] for d in data], padding=True, truncation=True, return_tensors='pt')\n",
    "with torch.no_grad():\n",
    "    outputs = model(**inputs)\n",
    "embeddings = outputs.last_hidden_state.mean(dim=1).numpy()"
   ]
  },
  {
   "cell_type": "code",
   "execution_count": 9,
   "metadata": {
    "colab": {
     "base_uri": "https://localhost:8080/"
    },
    "id": "bsk8z0iUdtf6",
    "outputId": "09ed978a-65d1-4f86-d5c1-073b260621a2"
   },
   "outputs": [
    {
     "name": "stdout",
     "output_type": "stream",
     "text": [
      "Unsafe Lines of Code with Vulnerability Types:\n",
      "\n",
      "eval(userInput); - Code Injection\n",
      "document.getElementById('output').innerHTML = userInput; - Cross-Site Scripting (XSS)\n",
      "document.write(userInput); - Cross-Site Scripting (XSS)\n"
     ]
    }
   ],
   "source": [
    "# Create labels\n",
    "labels = np.array([d['label'] for d in data])\n",
    "\n",
    "# Train a simple classifier\n",
    "clf = RandomForestClassifier()\n",
    "clf.fit(embeddings, labels)\n",
    "\n",
    "# Testing the classifier with a new code snippet\n",
    "test_code = \"\"\"\n",
    "    var userInput = '{\"name\": \"John\", \"age\": 30}';\n",
    "    var userObj;\n",
    "    try {\n",
    "        userObj = JSON.parse(userInput);  // Safely parse JSON without using eval\n",
    "    } catch (e) {\n",
    "        console.error(\"Invalid JSON input\");\n",
    "    }\n",
    "\n",
    "    var userInput = \"alert('Hello, world!')\";\n",
    "    eval(userInput);  // Unsafe\n",
    "    var safe = 1243;\n",
    "    document.getElementById('output').innerHTML = userInput;  // Unsafe\n",
    "    document.write(userInput);  // Unsafe\n",
    "\n",
    "\n",
    "\"\"\"\n",
    "cleaned_test_code = clean_code(test_code)\n",
    "unsafe_lines = label_code(cleaned_test_code)\n",
    "# unsafe_lines = label_code(test_code)\n",
    "\n",
    "print(\"Unsafe Lines of Code with Vulnerability Types:\\n\")\n",
    "for line, vuln_type in unsafe_lines:\n",
    "    print(f\"{line} - {vuln_type}\")\n",
    "\n",
    "test_inputs = tokenizer([cleaned_test_code], padding=True, truncation=True, return_tensors='pt')\n",
    "with torch.no_grad():\n",
    "    test_outputs = model(**test_inputs)\n",
    "test_embeddings = test_outputs.last_hidden_state.mean(dim=1).numpy()\n",
    "prediction = clf.predict(test_embeddings)\n",
    "# print(\"\\nPrediction:\", prediction)\n",
    "\n"
   ]
  },
  {
   "cell_type": "code",
   "execution_count": 2,
   "metadata": {
    "colab": {
     "base_uri": "https://localhost:8080/"
    },
    "id": "jj8v-ccvYKLX",
    "outputId": "9b4f2afb-6eb2-4aff-ab0b-d8aab69d68de"
   },
   "outputs": [
    {
     "name": "stdout",
     "output_type": "stream",
     "text": [
      "Defaulting to user installation because normal site-packages is not writeable\n",
      "Collecting gradio\n",
      "  Downloading gradio-4.39.0-py3-none-any.whl (12.4 MB)\n",
      "\u001b[2K     \u001b[38;2;114;156;31m━━━━━━━━━━━━━━━━━━━━━━━━━━━━━━━━━━━━━━━\u001b[0m \u001b[32m12.4/12.4 MB\u001b[0m \u001b[31m473.8 kB/s\u001b[0m eta \u001b[36m0:00:00\u001b[0mm eta \u001b[36m0:00:01\u001b[0m[36m0:00:01\u001b[0m\n",
      "\u001b[?25hRequirement already satisfied: markupsafe~=2.0 in /home/rohan/.local/lib/python3.10/site-packages (from gradio) (2.1.2)\n",
      "Collecting fastapi\n",
      "  Downloading fastapi-0.111.1-py3-none-any.whl (92 kB)\n",
      "\u001b[2K     \u001b[38;2;114;156;31m━━━━━━━━━━━━━━━━━━━━━━━━━━━━━━━━━━━━━━━\u001b[0m \u001b[32m92.2/92.2 KB\u001b[0m \u001b[31m256.9 kB/s\u001b[0m eta \u001b[36m0:00:00\u001b[0m eta \u001b[36m0:00:01\u001b[0m\u001b[36m0:00:01\u001b[0m\n",
      "\u001b[?25hCollecting pydantic>=2.0\n",
      "  Downloading pydantic-2.8.2-py3-none-any.whl (423 kB)\n",
      "\u001b[2K     \u001b[38;2;114;156;31m━━━━━━━━━━━━━━━━━━━━━━━━━━━━━━━━━━━━━\u001b[0m \u001b[32m423.9/423.9 KB\u001b[0m \u001b[31m643.4 kB/s\u001b[0m eta \u001b[36m0:00:00\u001b[0m1m641.1 kB/s\u001b[0m eta \u001b[36m0:00:01\u001b[0m\n",
      "\u001b[?25hRequirement already satisfied: pandas<3.0,>=1.0 in /home/rohan/.local/lib/python3.10/site-packages (from gradio) (1.5.3)\n",
      "Collecting importlib-resources<7.0,>=1.3\n",
      "  Downloading importlib_resources-6.4.0-py3-none-any.whl (38 kB)\n",
      "Collecting typer<1.0,>=0.12\n",
      "  Downloading typer-0.12.3-py3-none-any.whl (47 kB)\n",
      "\u001b[2K     \u001b[38;2;114;156;31m━━━━━━━━━━━━━━━━━━━━━━━━━━━━━━━━━━━━━━━━\u001b[0m \u001b[32m47.2/47.2 KB\u001b[0m \u001b[31m1.7 MB/s\u001b[0m eta \u001b[36m0:00:00\u001b[0m\n",
      "\u001b[?25hCollecting httpx>=0.24.1\n",
      "  Downloading httpx-0.27.0-py3-none-any.whl (75 kB)\n",
      "\u001b[2K     \u001b[38;2;114;156;31m━━━━━━━━━━━━━━━━━━━━━━━━━━━━━━━━━━━━━━━\u001b[0m \u001b[32m75.6/75.6 KB\u001b[0m \u001b[31m832.0 kB/s\u001b[0m eta \u001b[36m0:00:00\u001b[0m31m1.4 MB/s\u001b[0m eta \u001b[36m0:00:01\u001b[0m\n",
      "\u001b[?25hCollecting ruff>=0.2.2\n",
      "  Downloading ruff-0.5.4-py3-none-manylinux_2_17_x86_64.manylinux2014_x86_64.whl (10.1 MB)\n",
      "\u001b[2K     \u001b[38;2;114;156;31m━━━━━━━━━━━━━━━━━━━━━━━━━━━━━━━━━━━━━━━\u001b[0m \u001b[32m10.1/10.1 MB\u001b[0m \u001b[31m541.2 kB/s\u001b[0m eta \u001b[36m0:00:00\u001b[0mm eta \u001b[36m0:00:01\u001b[0m[36m0:00:01\u001b[0m\n",
      "\u001b[?25hRequirement already satisfied: anyio<5.0,>=3.0 in /home/rohan/.local/lib/python3.10/site-packages (from gradio) (3.6.2)\n",
      "Requirement already satisfied: numpy<3.0,>=1.0 in /home/rohan/.local/lib/python3.10/site-packages (from gradio) (1.24.2)\n",
      "Collecting pydub\n",
      "  Downloading pydub-0.25.1-py2.py3-none-any.whl (32 kB)\n",
      "Collecting gradio-client==1.1.1\n",
      "  Downloading gradio_client-1.1.1-py3-none-any.whl (318 kB)\n",
      "\u001b[2K     \u001b[38;2;114;156;31m━━━━━━━━━━━━━━━━━━━━━━━━━━━━━━━━━━━━━\u001b[0m \u001b[32m318.2/318.2 KB\u001b[0m \u001b[31m323.4 kB/s\u001b[0m eta \u001b[36m0:00:00\u001b[0m1m316.5 kB/s\u001b[0m eta \u001b[36m0:00:01\u001b[0m\n",
      "\u001b[?25hCollecting orjson~=3.0\n",
      "  Downloading orjson-3.10.6-cp310-cp310-manylinux_2_17_x86_64.manylinux2014_x86_64.whl (141 kB)\n",
      "\u001b[2K     \u001b[38;2;114;156;31m━━━━━━━━━━━━━━━━━━━━━━━━━━━━━━━━━━━━━\u001b[0m \u001b[32m141.1/141.1 KB\u001b[0m \u001b[31m267.7 kB/s\u001b[0m eta \u001b[36m0:00:00\u001b[0m1m240.3 kB/s\u001b[0m eta \u001b[36m0:00:01\u001b[0m\n",
      "\u001b[?25hCollecting python-multipart>=0.0.9\n",
      "  Downloading python_multipart-0.0.9-py3-none-any.whl (22 kB)\n",
      "Requirement already satisfied: pyyaml<7.0,>=5.0 in /usr/lib/python3/dist-packages (from gradio) (5.4.1)\n",
      "Collecting uvicorn>=0.14.0\n",
      "  Downloading uvicorn-0.30.3-py3-none-any.whl (62 kB)\n",
      "\u001b[2K     \u001b[38;2;114;156;31m━━━━━━━━━━━━━━━━━━━━━━━━━━━━━━━━━━━━━━━━\u001b[0m \u001b[32m62.8/62.8 KB\u001b[0m \u001b[31m1.0 MB/s\u001b[0m eta \u001b[36m0:00:00\u001b[0m[31m1.2 MB/s\u001b[0m eta \u001b[36m0:00:01\u001b[0m\n",
      "\u001b[?25hCollecting semantic-version~=2.0\n",
      "  Downloading semantic_version-2.10.0-py2.py3-none-any.whl (15 kB)\n",
      "Requirement already satisfied: packaging in /usr/lib/python3/dist-packages (from gradio) (21.3)\n",
      "Collecting aiofiles<24.0,>=22.0\n",
      "  Downloading aiofiles-23.2.1-py3-none-any.whl (15 kB)\n",
      "Requirement already satisfied: matplotlib~=3.0 in /home/rohan/.local/lib/python3.10/site-packages (from gradio) (3.7.1)\n",
      "Requirement already satisfied: huggingface-hub>=0.19.3 in /home/rohan/.local/lib/python3.10/site-packages (from gradio) (0.24.0)\n",
      "Requirement already satisfied: typing-extensions~=4.0 in /home/rohan/.local/lib/python3.10/site-packages (from gradio) (4.12.2)\n",
      "Collecting urllib3~=2.0\n",
      "  Using cached urllib3-2.2.2-py3-none-any.whl (121 kB)\n",
      "Requirement already satisfied: jinja2<4.0 in /home/rohan/.local/lib/python3.10/site-packages (from gradio) (3.1.2)\n",
      "Collecting tomlkit==0.12.0\n",
      "  Downloading tomlkit-0.12.0-py3-none-any.whl (37 kB)\n",
      "Collecting ffmpy\n",
      "  Downloading ffmpy-0.3.2.tar.gz (5.5 kB)\n",
      "  Preparing metadata (setup.py) ... \u001b[?25ldone\n",
      "\u001b[?25hRequirement already satisfied: pillow<11.0,>=8.0 in /home/rohan/.local/lib/python3.10/site-packages (from gradio) (10.3.0)\n",
      "Requirement already satisfied: fsspec in /home/rohan/.local/lib/python3.10/site-packages (from gradio-client==1.1.1->gradio) (2024.5.0)\n",
      "Collecting websockets<12.0,>=10.0\n",
      "  Downloading websockets-11.0.3-cp310-cp310-manylinux_2_5_x86_64.manylinux1_x86_64.manylinux_2_17_x86_64.manylinux2014_x86_64.whl (129 kB)\n",
      "\u001b[2K     \u001b[38;2;114;156;31m━━━━━━━━━━━━━━━━━━━━━━━━━━━━━━━━━━━━━\u001b[0m \u001b[32m129.9/129.9 KB\u001b[0m \u001b[31m717.0 kB/s\u001b[0m eta \u001b[36m0:00:00\u001b[0m kB/s\u001b[0m eta \u001b[36m0:00:01\u001b[0m:01\u001b[0m\n",
      "\u001b[?25hRequirement already satisfied: sniffio>=1.1 in /home/rohan/.local/lib/python3.10/site-packages (from anyio<5.0,>=3.0->gradio) (1.3.0)\n",
      "Requirement already satisfied: idna>=2.8 in /usr/lib/python3/dist-packages (from anyio<5.0,>=3.0->gradio) (3.3)\n",
      "Collecting httpcore==1.*\n",
      "  Downloading httpcore-1.0.5-py3-none-any.whl (77 kB)\n",
      "\u001b[2K     \u001b[38;2;114;156;31m━━━━━━━━━━━━━━━━━━━━━━━━━━━━━━━━━━━━━━━\u001b[0m \u001b[32m77.9/77.9 KB\u001b[0m \u001b[31m195.1 kB/s\u001b[0m eta \u001b[36m0:00:00\u001b[0m1m177.8 kB/s\u001b[0m eta \u001b[36m0:00:01\u001b[0m\n",
      "\u001b[?25hRequirement already satisfied: certifi in /usr/lib/python3/dist-packages (from httpx>=0.24.1->gradio) (2020.6.20)\n",
      "Collecting h11<0.15,>=0.13\n",
      "  Downloading h11-0.14.0-py3-none-any.whl (58 kB)\n",
      "\u001b[2K     \u001b[38;2;114;156;31m━━━━━━━━━━━━━━━━━━━━━━━━━━━━━━━━━━━━━━━\u001b[0m \u001b[32m58.3/58.3 KB\u001b[0m \u001b[31m668.1 kB/s\u001b[0m eta \u001b[36m0:00:00\u001b[0m kB/s\u001b[0m eta \u001b[36m0:00:01\u001b[0m\n",
      "\u001b[?25hRequirement already satisfied: tqdm>=4.42.1 in /home/rohan/.local/lib/python3.10/site-packages (from huggingface-hub>=0.19.3->gradio) (4.66.4)\n",
      "Requirement already satisfied: requests in /home/rohan/.local/lib/python3.10/site-packages (from huggingface-hub>=0.19.3->gradio) (2.32.3)\n",
      "Requirement already satisfied: filelock in /home/rohan/.local/lib/python3.10/site-packages (from huggingface-hub>=0.19.3->gradio) (3.10.5)\n",
      "Requirement already satisfied: cycler>=0.10 in /home/rohan/.local/lib/python3.10/site-packages (from matplotlib~=3.0->gradio) (0.11.0)\n",
      "Requirement already satisfied: fonttools>=4.22.0 in /home/rohan/.local/lib/python3.10/site-packages (from matplotlib~=3.0->gradio) (4.39.2)\n",
      "Requirement already satisfied: pyparsing>=2.3.1 in /usr/lib/python3/dist-packages (from matplotlib~=3.0->gradio) (2.4.7)\n",
      "Requirement already satisfied: contourpy>=1.0.1 in /home/rohan/.local/lib/python3.10/site-packages (from matplotlib~=3.0->gradio) (1.0.7)\n",
      "Requirement already satisfied: python-dateutil>=2.7 in /home/rohan/.local/lib/python3.10/site-packages (from matplotlib~=3.0->gradio) (2.8.2)\n",
      "Requirement already satisfied: kiwisolver>=1.0.1 in /home/rohan/.local/lib/python3.10/site-packages (from matplotlib~=3.0->gradio) (1.4.4)\n",
      "Requirement already satisfied: pytz>=2020.1 in /usr/lib/python3/dist-packages (from pandas<3.0,>=1.0->gradio) (2022.1)\n",
      "Collecting annotated-types>=0.4.0\n",
      "  Downloading annotated_types-0.7.0-py3-none-any.whl (13 kB)\n",
      "Collecting pydantic-core==2.20.1\n",
      "  Downloading pydantic_core-2.20.1-cp310-cp310-manylinux_2_17_x86_64.manylinux2014_x86_64.whl (2.1 MB)\n",
      "\u001b[2K     \u001b[38;2;114;156;31m━━━━━━━━━━━━━━━━━━━━━━━━━━━━━━━━━━━━━━━━\u001b[0m \u001b[32m2.1/2.1 MB\u001b[0m \u001b[31m797.0 kB/s\u001b[0m eta \u001b[36m0:00:00\u001b[0mm eta \u001b[36m0:00:01\u001b[0m[36m0:00:01\u001b[0m\n",
      "\u001b[?25hCollecting rich>=10.11.0\n",
      "  Downloading rich-13.7.1-py3-none-any.whl (240 kB)\n",
      "\u001b[2K     \u001b[38;2;114;156;31m━━━━━━━━━━━━━━━━━━━━━━━━━━━━━━━━━━━━━━━\u001b[0m \u001b[32m240.7/240.7 KB\u001b[0m \u001b[31m1.1 MB/s\u001b[0m eta \u001b[36m0:00:00\u001b[0m[31m1.6 MB/s\u001b[0m eta \u001b[36m0:00:01\u001b[0m\n",
      "\u001b[?25hRequirement already satisfied: click>=8.0.0 in /home/rohan/.local/lib/python3.10/site-packages (from typer<1.0,>=0.12->gradio) (8.1.3)\n",
      "Collecting shellingham>=1.3.0\n",
      "  Downloading shellingham-1.5.4-py2.py3-none-any.whl (9.8 kB)\n",
      "Collecting fastapi-cli>=0.0.2\n",
      "  Downloading fastapi_cli-0.0.4-py3-none-any.whl (9.5 kB)\n",
      "Requirement already satisfied: email_validator>=2.0.0 in /home/rohan/.local/lib/python3.10/site-packages (from fastapi->gradio) (2.0.0.post2)\n"
     ]
    },
    {
     "name": "stdout",
     "output_type": "stream",
     "text": [
      "Collecting starlette<0.38.0,>=0.37.2\n",
      "  Downloading starlette-0.37.2-py3-none-any.whl (71 kB)\n",
      "\u001b[2K     \u001b[38;2;114;156;31m━━━━━━━━━━━━━━━━━━━━━━━━━━━━━━━━━━━━━━━\u001b[0m \u001b[32m71.9/71.9 KB\u001b[0m \u001b[31m691.9 kB/s\u001b[0m eta \u001b[36m0:00:00\u001b[0m kB/s\u001b[0m eta \u001b[36m0:00:01\u001b[0m\n",
      "\u001b[?25hRequirement already satisfied: dnspython>=2.0.0 in /home/rohan/.local/lib/python3.10/site-packages (from email_validator>=2.0.0->fastapi->gradio) (2.2.1)\n",
      "Requirement already satisfied: six>=1.5 in /usr/lib/python3/dist-packages (from python-dateutil>=2.7->matplotlib~=3.0->gradio) (1.16.0)\n",
      "Collecting pygments<3.0.0,>=2.13.0\n",
      "  Downloading pygments-2.18.0-py3-none-any.whl (1.2 MB)\n",
      "\u001b[2K     \u001b[38;2;114;156;31m━━━━━━━━━━━━━━━━━━━━━━━━━━━━━━━━━━━━━━━━\u001b[0m \u001b[32m1.2/1.2 MB\u001b[0m \u001b[31m971.9 kB/s\u001b[0m eta \u001b[36m0:00:00\u001b[0m kB/s\u001b[0m eta \u001b[36m0:00:01\u001b[0m:01\u001b[0m\n",
      "\u001b[?25hCollecting markdown-it-py>=2.2.0\n",
      "  Downloading markdown_it_py-3.0.0-py3-none-any.whl (87 kB)\n",
      "\u001b[2K     \u001b[38;2;114;156;31m━━━━━━━━━━━━━━━━━━━━━━━━━━━━━━━━━━━━━━━\u001b[0m \u001b[32m87.5/87.5 KB\u001b[0m \u001b[31m789.5 kB/s\u001b[0m eta \u001b[36m0:00:00\u001b[0m1m960.2 kB/s\u001b[0m eta \u001b[36m0:00:01\u001b[0m\n",
      "\u001b[?25hRequirement already satisfied: python-dotenv>=0.13 in /usr/lib/python3/dist-packages (from uvicorn>=0.14.0->gradio) (0.19.2)\n",
      "Collecting uvloop!=0.15.0,!=0.15.1,>=0.14.0\n",
      "  Downloading uvloop-0.19.0-cp310-cp310-manylinux_2_17_x86_64.manylinux2014_x86_64.whl (3.4 MB)\n",
      "\u001b[2K     \u001b[38;2;114;156;31m━━━━━━━━━━━━━━━━━━━━━━━━━━━━━━━━━━━━━━━━\u001b[0m \u001b[32m3.4/3.4 MB\u001b[0m \u001b[31m985.9 kB/s\u001b[0m eta \u001b[36m0:00:00\u001b[0mm eta \u001b[36m0:00:01\u001b[0m[36m0:00:01\u001b[0m\n",
      "\u001b[?25hCollecting httptools>=0.5.0\n",
      "  Downloading httptools-0.6.1-cp310-cp310-manylinux_2_5_x86_64.manylinux1_x86_64.manylinux_2_17_x86_64.manylinux2014_x86_64.whl (341 kB)\n",
      "\u001b[2K     \u001b[38;2;114;156;31m━━━━━━━━━━━━━━━━━━━━━━━━━━━━━━━━━━━━━━━\u001b[0m \u001b[32m341.4/341.4 KB\u001b[0m \u001b[31m1.2 MB/s\u001b[0m eta \u001b[36m0:00:00\u001b[0m MB/s\u001b[0m eta \u001b[36m0:00:01\u001b[0m:01\u001b[0m\n",
      "\u001b[?25hCollecting watchfiles>=0.13\n",
      "  Downloading watchfiles-0.22.0-cp310-cp310-manylinux_2_17_x86_64.manylinux2014_x86_64.whl (1.2 MB)\n",
      "\u001b[2K     \u001b[38;2;114;156;31m━━━━━━━━━━━━━━━━━━━━━━━━━━━━━━━━━━━━━━━━\u001b[0m \u001b[32m1.2/1.2 MB\u001b[0m \u001b[31m532.5 kB/s\u001b[0m eta \u001b[36m0:00:00\u001b[0m1m503.9 kB/s\u001b[0m eta \u001b[36m0:00:01\u001b[0m\n",
      "\u001b[?25hRequirement already satisfied: charset-normalizer<4,>=2 in /home/rohan/.local/lib/python3.10/site-packages (from requests->huggingface-hub>=0.19.3->gradio) (3.3.2)\n",
      "Collecting mdurl~=0.1\n",
      "  Downloading mdurl-0.1.2-py3-none-any.whl (10.0 kB)\n",
      "Building wheels for collected packages: ffmpy\n",
      "  Building wheel for ffmpy (setup.py) ... \u001b[?25ldone\n",
      "\u001b[?25h  Created wheel for ffmpy: filename=ffmpy-0.3.2-py3-none-any.whl size=5600 sha256=1c9ba021604e19e674b66f617808ead1585070d8abb37ee053c5175edd1473ae\n",
      "  Stored in directory: /home/rohan/.cache/pip/wheels/bd/65/9a/671fc6dcde07d4418df0c592f8df512b26d7a0029c2a23dd81\n",
      "Successfully built ffmpy\n",
      "Installing collected packages: pydub, ffmpy, websockets, uvloop, urllib3, tomlkit, shellingham, semantic-version, ruff, python-multipart, pygments, pydantic-core, orjson, mdurl, importlib-resources, httptools, h11, annotated-types, aiofiles, watchfiles, uvicorn, starlette, pydantic, markdown-it-py, httpcore, rich, httpx, typer, gradio-client, fastapi-cli, fastapi, gradio\n",
      "\u001b[31mERROR: pip's dependency resolver does not currently take into account all the packages that are installed. This behaviour is the source of the following dependency conflicts.\n",
      "pyrebase4 4.8.0 requires urllib3<2,>=1.21.1, but you have urllib3 2.2.2 which is incompatible.\u001b[0m\u001b[31m\n",
      "\u001b[0mSuccessfully installed aiofiles-23.2.1 annotated-types-0.7.0 fastapi-0.111.1 fastapi-cli-0.0.4 ffmpy-0.3.2 gradio-4.39.0 gradio-client-1.1.1 h11-0.14.0 httpcore-1.0.5 httptools-0.6.1 httpx-0.27.0 importlib-resources-6.4.0 markdown-it-py-3.0.0 mdurl-0.1.2 orjson-3.10.6 pydantic-2.8.2 pydantic-core-2.20.1 pydub-0.25.1 pygments-2.18.0 python-multipart-0.0.9 rich-13.7.1 ruff-0.5.4 semantic-version-2.10.0 shellingham-1.5.4 starlette-0.37.2 tomlkit-0.12.0 typer-0.12.3 urllib3-2.2.2 uvicorn-0.30.3 uvloop-0.19.0 watchfiles-0.22.0 websockets-11.0.3\n"
     ]
    }
   ],
   "source": [
    "!pip install gradio\n"
   ]
  },
  {
   "cell_type": "code",
   "execution_count": 1,
   "metadata": {
    "colab": {
     "base_uri": "https://localhost:8080/",
     "height": 630
    },
    "id": "huICITG_YIfh",
    "outputId": "66c7ca82-7704-46da-d717-c1ff9ca46f89"
   },
   "outputs": [
    {
     "ename": "ModuleNotFoundError",
     "evalue": "No module named 'gradio'",
     "output_type": "error",
     "traceback": [
      "\u001b[0;31m---------------------------------------------------------------------------\u001b[0m",
      "\u001b[0;31mModuleNotFoundError\u001b[0m                       Traceback (most recent call last)",
      "Cell \u001b[0;32mIn[1], line 1\u001b[0m\n\u001b[0;32m----> 1\u001b[0m \u001b[38;5;28;01mimport\u001b[39;00m \u001b[38;5;21;01mgradio\u001b[39;00m \u001b[38;5;28;01mas\u001b[39;00m \u001b[38;5;21;01mgr\u001b[39;00m\n\u001b[1;32m      3\u001b[0m \u001b[38;5;66;03m# Function to detect unsafe code\u001b[39;00m\n\u001b[1;32m      4\u001b[0m \u001b[38;5;28;01mdef\u001b[39;00m \u001b[38;5;21mdetect_unsafe_code\u001b[39m(code):\n\u001b[1;32m      5\u001b[0m     \u001b[38;5;66;03m# Clean and label the provided code\u001b[39;00m\n",
      "\u001b[0;31mModuleNotFoundError\u001b[0m: No module named 'gradio'"
     ]
    }
   ],
   "source": [
    "import gradio as gr\n",
    "\n",
    "# Function to detect unsafe code\n",
    "def detect_unsafe_code(code):\n",
    "    # Clean and label the provided code\n",
    "    cleaned_code = clean_code(code)\n",
    "    unsafe_lines = label_code(cleaned_code)\n",
    "\n",
    "    # Format the output\n",
    "    formatted_output = \"\\n\".join([f\"{line[0]} - {line[1]}\" for line in unsafe_lines])\n",
    "    return formatted_output\n",
    "\n",
    "# Create and launch the Gradio interface\n",
    "iface = gr.Interface(\n",
    "    fn=detect_unsafe_code,\n",
    "    inputs=\"text\",\n",
    "    outputs=\"text\",\n",
    "    title=\"JavaScript Code Safety Analyzer\",\n",
    "    description=\"Enter your JavaScript code to detect unsafe lines.\"\n",
    ")\n",
    "\n",
    "iface.launch()\n"
   ]
  }
 ],
 "metadata": {
  "colab": {
   "provenance": []
  },
  "kernelspec": {
   "display_name": "Python 3 (ipykernel)",
   "language": "python",
   "name": "python3"
  },
  "language_info": {
   "codemirror_mode": {
    "name": "ipython",
    "version": 3
   },
   "file_extension": ".py",
   "mimetype": "text/x-python",
   "name": "python",
   "nbconvert_exporter": "python",
   "pygments_lexer": "ipython3",
   "version": "3.10.12"
  }
 },
 "nbformat": 4,
 "nbformat_minor": 1
}
